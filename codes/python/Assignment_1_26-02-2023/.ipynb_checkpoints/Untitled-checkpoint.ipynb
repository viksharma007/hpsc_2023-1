{
 "cells": [
  {
   "cell_type": "code",
   "execution_count": 1,
   "id": "79d639ad",
   "metadata": {},
   "outputs": [],
   "source": [
    "def my_exp(x):\n",
    "    import matplotlib.pyplot as plt\n",
    "    from numpy import nan\n",
    "    exp = ones(x.size)*0\n",
    "    kmax = 100\n",
    "    factorial = 1\n",
    "    tol = 1e-14\n",
    "    for i in range(0,kmax):\n",
    "        if(i == 0):\n",
    "            factorial = 1\n",
    "        else:\n",
    "            factorial = factorial*i\n",
    "        exp_0 = exp\n",
    "        exp = (x**i)/(factorial) + exp\n",
    "        i = i + 1\n",
    "        residual = abs(exp[exp.size - 1] - exp_0[exp_0.size - 1])\n",
    "        print(residual)\n",
    "        if (residual < tol):\n",
    "            break\n",
    "    # print(f\"Exponential value is {exp} which convergened at iteration number {i}\")\n",
    "    print(f\"Exponential value are {exp}\")\n",
    "    print(f\"Series convergened at iteration number {i}\")\n",
    "    print(\"done\")\n",
    "    plt.plot(x,exp)"
   ]
  },
  {
   "cell_type": "code",
   "execution_count": 4,
   "id": "7abb5770",
   "metadata": {
    "scrolled": true
   },
   "outputs": [],
   "source": [
    "from numpy import *\n",
    "x = array([0,1,2])"
   ]
  },
  {
   "cell_type": "code",
   "execution_count": 5,
   "id": "74a724e0",
   "metadata": {},
   "outputs": [
    {
     "name": "stdout",
     "output_type": "stream",
     "text": [
      "[1. 1. 1.]\n",
      "[1. 2. 3.]\n",
      "[1.  2.5 5. ]\n",
      "[1.         2.66666667 6.33333333]\n",
      "[1.         2.70833333 7.        ]\n",
      "[1.         2.71666667 7.26666667]\n",
      "[1.         2.71805556 7.35555556]\n",
      "[1.         2.71825397 7.38095238]\n",
      "[1.         2.71827877 7.38730159]\n",
      "[1.         2.71828153 7.38871252]\n",
      "[1.         2.7182818  7.38899471]\n",
      "[1.         2.71828183 7.38904602]\n",
      "[1.         2.71828183 7.38905457]\n",
      "[1.         2.71828183 7.38905588]\n",
      "[1.         2.71828183 7.38905607]\n",
      "[1.         2.71828183 7.3890561 ]\n",
      "[1.         2.71828183 7.3890561 ]\n",
      "[1.         2.71828183 7.3890561 ]\n",
      "[1.         2.71828183 7.3890561 ]\n",
      "[1.         2.71828183 7.3890561 ]\n",
      "[1.         2.71828183 7.3890561 ]\n",
      "[1.0 2.7182818284590455 7.389056098930645]\n",
      "[1.0 2.7182818284590455 7.389056098930649]\n",
      "Exponential value are [1.0 2.7182818284590455 7.389056098930649]\n",
      "Series convergened at iteration number 23\n",
      "done\n"
     ]
    },
    {
     "data": {
      "image/png": "[encoded data removed]",
      "text/plain": [
       "<Figure size 640x480 with 1 Axes>"
      ]
     },
     "metadata": {},
     "output_type": "display_data"
    }
   ],
   "source": [
    "my_exp(x)"
   ]
  },
  {
   "cell_type": "code",
   "execution_count": 55,
   "id": "78895ef3",
   "metadata": {},
   "outputs": [
    {
     "data": {
      "text/plain": [
       "array([  0, 100])"
      ]
     },
     "execution_count": 55,
     "metadata": {},
     "output_type": "execute_result"
    }
   ],
   "source": [
    "x"
   ]
  },
  {
   "cell_type": "code",
   "execution_count": null,
   "id": "84d25ffa",
   "metadata": {},
   "outputs": [],
   "source": []
  }
 ],
 "metadata": {
  "kernelspec": {
   "display_name": "Python 3 (ipykernel)",
   "language": "python",
   "name": "python3"
  },
  "language_info": {
   "codemirror_mode": {
    "name": "ipython",
    "version": 3
   },
   "file_extension": ".py",
   "mimetype": "text/x-python",
   "name": "python",
   "nbconvert_exporter": "python",
   "pygments_lexer": "ipython3",
   "version": "3.10.6"
  }
 },
 "nbformat": 4,
 "nbformat_minor": 5
}

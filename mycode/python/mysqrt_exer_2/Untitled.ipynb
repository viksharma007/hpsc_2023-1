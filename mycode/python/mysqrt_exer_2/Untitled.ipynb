{
 "cells": [
  {
   "cell_type": "code",
   "execution_count": 1,
   "id": "fa70c152",
   "metadata": {},
   "outputs": [],
   "source": [
    "import mysqrt\n"
   ]
  },
  {
   "cell_type": "code",
   "execution_count": 2,
   "id": "69994e4c",
   "metadata": {},
   "outputs": [],
   "source": [
    "mysqrt.sqrtNT?\n"
   ]
  },
  {
   "cell_type": "code",
   "execution_count": 3,
   "id": "0d2ab1a6",
   "metadata": {},
   "outputs": [
    {
     "data": {
      "text/plain": [
       "1.414213562373095"
      ]
     },
     "execution_count": 3,
     "metadata": {},
     "output_type": "execute_result"
    }
   ],
   "source": [
    "mysqrt.sqrtNT(2)"
   ]
  },
  {
   "cell_type": "code",
   "execution_count": 6,
   "id": "9752cdfb",
   "metadata": {},
   "outputs": [
    {
     "name": "stdout",
     "output_type": "stream",
     "text": [
      "1.85 µs ± 245 ns per loop (mean ± std. dev. of 7 runs, 100,000 loops each)\n"
     ]
    }
   ],
   "source": [
    "%timeit mysqrt.sqrtNT(2)\n"
   ]
  },
  {
   "cell_type": "code",
   "execution_count": 12,
   "id": "e0848b5e",
   "metadata": {},
   "outputs": [
    {
     "ename": "NameError",
     "evalue": "name 'linspace' is not defined",
     "output_type": "error",
     "traceback": [
      "\u001b[0;31m---------------------------------------------------------------------------\u001b[0m",
      "\u001b[0;31mNameError\u001b[0m                                 Traceback (most recent call last)",
      "Cell \u001b[0;32mIn[12], line 1\u001b[0m\n\u001b[0;32m----> 1\u001b[0m x \u001b[38;5;241m=\u001b[39m \u001b[43mlinspace\u001b[49m[\u001b[38;5;241m0\u001b[39m:\u001b[38;5;241m100\u001b[39m:\u001b[38;5;241m100\u001b[39m]\n",
      "\u001b[0;31mNameError\u001b[0m: name 'linspace' is not defined"
     ]
    }
   ],
   "source": [
    "x = linspace[0:100:100]"
   ]
  },
  {
   "cell_type": "code",
   "execution_count": null,
   "id": "d1c76621",
   "metadata": {},
   "outputs": [],
   "source": []
  }
 ],
 "metadata": {
  "kernelspec": {
   "display_name": "Python 3 (ipykernel)",
   "language": "python",
   "name": "python3"
  },
  "language_info": {
   "codemirror_mode": {
    "name": "ipython",
    "version": 3
   },
   "file_extension": ".py",
   "mimetype": "text/x-python",
   "name": "python",
   "nbconvert_exporter": "python",
   "pygments_lexer": "ipython3",
   "version": "3.10.6"
  }
 },
 "nbformat": 4,
 "nbformat_minor": 5
}

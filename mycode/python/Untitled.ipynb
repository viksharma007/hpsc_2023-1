{
 "cells": [
  {
   "cell_type": "code",
   "execution_count": 1,
   "id": "9c392690",
   "metadata": {},
   "outputs": [
    {
     "data": {
      "text/plain": [
       "'/home/hpsc/github/hpsc_2023/codes/python'"
      ]
     },
     "execution_count": 1,
     "metadata": {},
     "output_type": "execute_result"
    }
   ],
   "source": [
    "pwd\n"
   ]
  },
  {
   "cell_type": "code",
   "execution_count": 2,
   "id": "edf067f8",
   "metadata": {},
   "outputs": [],
   "source": [
    "import  mysqrt\n"
   ]
  },
  {
   "cell_type": "code",
   "execution_count": 3,
   "id": "11289759",
   "metadata": {},
   "outputs": [
    {
     "name": "stdout",
     "output_type": "stream",
     "text": [
      "Object `mysqrt.sqrtNT` not found.\n"
     ]
    }
   ],
   "source": [
    "mysqrt.sqrtNT?"
   ]
  },
  {
   "cell_type": "code",
   "execution_count": 4,
   "id": "fb530ae4",
   "metadata": {},
   "outputs": [
    {
     "ename": "AttributeError",
     "evalue": "module 'mysqrt' has no attribute 'sqrtNT'",
     "output_type": "error",
     "traceback": [
      "\u001b[0;31m---------------------------------------------------------------------------\u001b[0m",
      "\u001b[0;31mAttributeError\u001b[0m                            Traceback (most recent call last)",
      "Cell \u001b[0;32mIn[4], line 1\u001b[0m\n\u001b[0;32m----> 1\u001b[0m \u001b[43mmysqrt\u001b[49m\u001b[38;5;241;43m.\u001b[39;49m\u001b[43msqrtNT\u001b[49m(\u001b[38;5;241m2\u001b[39m)\n",
      "\u001b[0;31mAttributeError\u001b[0m: module 'mysqrt' has no attribute 'sqrtNT'"
     ]
    }
   ],
   "source": [
    "mysqrt.sqrtNT(2)\n"
   ]
  },
  {
   "cell_type": "code",
   "execution_count": null,
   "id": "395fc879",
   "metadata": {},
   "outputs": [],
   "source": []
  }
 ],
 "metadata": {
  "kernelspec": {
   "display_name": "Python 3 (ipykernel)",
   "language": "python",
   "name": "python3"
  },
  "language_info": {
   "codemirror_mode": {
    "name": "ipython",
    "version": 3
   },
   "file_extension": ".py",
   "mimetype": "text/x-python",
   "name": "python",
   "nbconvert_exporter": "python",
   "pygments_lexer": "ipython3",
   "version": "3.10.6"
  }
 },
 "nbformat": 4,
 "nbformat_minor": 5
}
